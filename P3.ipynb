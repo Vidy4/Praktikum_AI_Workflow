{
  "nbformat": 4,
  "nbformat_minor": 0,
  "metadata": {
    "colab": {
      "provenance": [],
      "authorship_tag": "ABX9TyOrsMhnDrlo9e9O9gXr4nwH",
      "include_colab_link": true
    },
    "kernelspec": {
      "name": "python3",
      "display_name": "Python 3"
    },
    "language_info": {
      "name": "python"
    }
  },
  "cells": [
    {
      "cell_type": "markdown",
      "metadata": {
        "id": "view-in-github",
        "colab_type": "text"
      },
      "source": [
        "<a href=\"https://colab.research.google.com/github/Vidy4/Praktikum_AI_Workflow/blob/main/P3.ipynb\" target=\"_parent\"><img src=\"https://colab.research.google.com/assets/colab-badge.svg\" alt=\"Open In Colab\"/></a>"
      ]
    },
    {
      "cell_type": "markdown",
      "source": [
        "**GREEDY BEST FIRST SEARCH**"
      ],
      "metadata": {
        "id": "7J3LznQHVGog"
      }
    },
    {
      "cell_type": "code",
      "execution_count": 1,
      "metadata": {
        "colab": {
          "base_uri": "https://localhost:8080/"
        },
        "id": "OaEs-x9OVF3u",
        "outputId": "21671525-3c96-493c-a628-99de7e1e164a"
      },
      "outputs": [
        {
          "output_type": "stream",
          "name": "stdout",
          "text": [
            "Simpul tujuan ditemukan!\n",
            "Jalur terpendek: ['S', 'E', 'D', 'G']\n"
          ]
        },
        {
          "output_type": "execute_result",
          "data": {
            "text/plain": [
              "['S', 'E', 'D', 'G']"
            ]
          },
          "metadata": {},
          "execution_count": 1
        }
      ],
      "source": [
        "from queue import PriorityQueue\n",
        "\n",
        "# Fungsi untuk merekonstruksi jalur\n",
        "def reconstruct_path(came_from, start, goal):\n",
        "    current = goal\n",
        "    path = []\n",
        "\n",
        "    while current != start:\n",
        "        path.append(current)\n",
        "        current = came_from[current]\n",
        "\n",
        "    path.append(start)\n",
        "    path.reverse()\n",
        "    return path\n",
        "\n",
        "# Fungsi algoritma Greedy Best-First Search\n",
        "def greedy_search(graph, start, goal):\n",
        "    frontier = PriorityQueue()  # Antrian prioritas\n",
        "    frontier.put((heuristic[start], start))  # Tambahkan simpul awal\n",
        "    came_from = {}  # Menyimpan jalur\n",
        "    explored = set()  # Menyimpan simpul yang sudah dikunjungi\n",
        "\n",
        "    while not frontier.empty():\n",
        "        _, current_node = frontier.get()  # Ambil simpul dengan nilai heuristik terkecil\n",
        "\n",
        "        if current_node == goal:\n",
        "            print(\"Simpul tujuan ditemukan!\")\n",
        "            path = reconstruct_path(came_from, start, goal)\n",
        "            print(\"Jalur terpendek:\", path)\n",
        "            return path  # Kembalikan jalur yang ditemukan\n",
        "\n",
        "        explored.add(current_node)\n",
        "\n",
        "        for neighbor in graph[current_node]:\n",
        "            if neighbor not in explored:\n",
        "                frontier.put((heuristic[neighbor], neighbor))  # Simpan jalur\n",
        "                came_from[neighbor] = current_node\n",
        "\n",
        "    print(\"Simpul tujuan tidak ditemukan!\")\n",
        "    return None\n",
        "\n",
        "# Daftar heuristik\n",
        "heuristic = {\n",
        "    'A': 9,\n",
        "    'B': 4,\n",
        "    'C': 2,\n",
        "    'D': 5,\n",
        "    'E': 3,\n",
        "    'S': 7,\n",
        "    'G': 0\n",
        "}\n",
        "\n",
        "# Graf menggunakan dictionary\n",
        "graph = {\n",
        "    'S': ['A', 'E'],\n",
        "    'A': ['B', 'C'],\n",
        "    'B': ['G'],\n",
        "    'C': ['G'],\n",
        "    'D': ['G'],\n",
        "    'E': ['D']\n",
        "}\n",
        "\n",
        "# Titik awal dan tujuan\n",
        "start_node = 'S'\n",
        "goal_node = 'G'\n",
        "\n",
        "# Panggil fungsi greedy search\n",
        "greedy_search(graph, start_node, goal_node)\n"
      ]
    },
    {
      "cell_type": "markdown",
      "source": [],
      "metadata": {
        "id": "JrjZyBy6VzTW"
      }
    },
    {
      "cell_type": "markdown",
      "source": [
        "**A STAR SEARCH**"
      ],
      "metadata": {
        "id": "JP6bImDUV21l"
      }
    },
    {
      "cell_type": "code",
      "source": [
        "from os import path\n",
        "from queue import PriorityQueue\n",
        "\n",
        "def a_star_tree_search(graph, start, goal, heuristic):\n",
        "    frontier = PriorityQueue()\n",
        "    frontier.put((0, start))  # (Priority, Node)\n",
        "    path = {}\n",
        "\n",
        "    while not frontier.empty():\n",
        "        _, current_node = frontier.get()\n",
        "\n",
        "        if current_node == goal:\n",
        "            print(\"Goal node found!\")\n",
        "            route = reconstruct_path(path, start, goal)\n",
        "            print(\"Route optimal:\", route)\n",
        "            return True\n",
        "\n",
        "        for neighbor, cost in graph[current_node].items():\n",
        "            priority = heuristic[neighbor] + cost\n",
        "            frontier.put((priority, neighbor))\n",
        "            path[neighbor] = current_node\n",
        "\n",
        "    print(\"Goal node not found!\")\n",
        "    return False\n",
        "\n",
        "def a_star_graph_search(graph, start, goal, heuristic):\n",
        "    frontier = PriorityQueue()\n",
        "    frontier.put((0, start))  # (Priority, Node)\n",
        "    explored = set()\n",
        "    path = {}\n",
        "\n",
        "    while not frontier.empty():\n",
        "        _, current_node = frontier.get()\n",
        "\n",
        "        if current_node == goal:\n",
        "            print(\"Goal node found!\")\n",
        "            route = reconstruct_path(path, start, goal)\n",
        "            print(\"Route optimal:\", route)\n",
        "            return True\n",
        "\n",
        "        explored.add(current_node)\n",
        "\n",
        "        for neighbor, cost in graph[current_node].items():\n",
        "            if neighbor not in explored:\n",
        "                total_cost = cost + heuristic[neighbor]\n",
        "                frontier.put((total_cost, neighbor))\n",
        "                path[neighbor] = current_node\n",
        "\n",
        "    print(\"Goal node not found!\")\n",
        "    return False\n",
        "\n",
        "def reconstruct_path(path, start, goal):\n",
        "    current = goal\n",
        "    route = [current]\n",
        "    while current != start:\n",
        "        current = path[current]\n",
        "        route.append(current)\n",
        "    route.reverse()\n",
        "    return route\n",
        "\n",
        "# Heuristic values\n",
        "heuristic = {\n",
        "    'A': 9, 'B': 4, 'C': 2, 'D': 5, 'E': 3, 'S': 7, 'G': 0\n",
        "}\n",
        "\n",
        "# Graph adjacency list with costs\n",
        "graph = {\n",
        "    'S': {'A': 3, 'E': 2},\n",
        "    'A': {'B': 4, 'C': 4},\n",
        "    'B': {'G': 7},\n",
        "    'C': {'G': 3},\n",
        "    'E': {'D': 6},\n",
        "    'D': {'G': 6}\n",
        "}\n",
        "\n",
        "# Define start and goal nodes\n",
        "start_node = 'S'\n",
        "goal_node = 'G'\n",
        "\n",
        "# Run A* Tree Search\n",
        "a_star_tree_search(graph, start_node, goal_node, heuristic)\n",
        "\n",
        "# Run A* Graph Search\n",
        "a_star_graph_search(graph, start_node, goal_node, heuristic)\n"
      ],
      "metadata": {
        "colab": {
          "base_uri": "https://localhost:8080/"
        },
        "id": "_rXW-01wVMOO",
        "outputId": "3688a0b8-819b-49f1-edf0-97724511d5e9"
      },
      "execution_count": 2,
      "outputs": [
        {
          "output_type": "stream",
          "name": "stdout",
          "text": [
            "Goal node found!\n",
            "Route optimal: ['S', 'E', 'D', 'G']\n",
            "Goal node found!\n",
            "Route optimal: ['S', 'E', 'D', 'G']\n"
          ]
        },
        {
          "output_type": "execute_result",
          "data": {
            "text/plain": [
              "True"
            ]
          },
          "metadata": {},
          "execution_count": 2
        }
      ]
    }
  ]
}