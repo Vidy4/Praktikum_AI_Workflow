{
  "nbformat": 4,
  "nbformat_minor": 0,
  "metadata": {
    "colab": {
      "provenance": [],
      "authorship_tag": "ABX9TyPKlE9G2lMBQgXPK1lrPWxI",
      "include_colab_link": true
    },
    "kernelspec": {
      "name": "python3",
      "display_name": "Python 3"
    },
    "language_info": {
      "name": "python"
    }
  },
  "cells": [
    {
      "cell_type": "markdown",
      "metadata": {
        "id": "view-in-github",
        "colab_type": "text"
      },
      "source": [
        "<a href=\"https://colab.research.google.com/github/Vidy4/Praktikum_AI_Workflow/blob/main/P2.ipynb\" target=\"_parent\"><img src=\"https://colab.research.google.com/assets/colab-badge.svg\" alt=\"Open In Colab\"/></a>"
      ]
    },
    {
      "cell_type": "markdown",
      "source": [
        "**DFS**"
      ],
      "metadata": {
        "id": "z9uv21-LTn6g"
      }
    },
    {
      "cell_type": "code",
      "execution_count": 5,
      "metadata": {
        "colab": {
          "base_uri": "https://localhost:8080/"
        },
        "id": "Mqn_X6ANMFwp",
        "outputId": "e5adaa9c-b81c-4de7-acb4-7e47ea3ccb59"
      },
      "outputs": [
        {
          "output_type": "stream",
          "name": "stdout",
          "text": [
            "Berikut adalah Penelusuran Depth First (dimulai dari node 2):\n",
            "2 0 1 3 "
          ]
        }
      ],
      "source": [
        "from collections import defaultdict\n",
        "\n",
        "class Graph:\n",
        "    def __init__(self):\n",
        "        self.graph = defaultdict(list)  # Menyimpan adjacency list\n",
        "\n",
        "    def addEdge(self, u, v):\n",
        "        self.graph[u].append(v)  # Menambahkan edge dari u ke v\n",
        "\n",
        "    def DFSUtil(self, v, visited):\n",
        "        visited.add(v)  # Menandai node sebagai dikunjungi\n",
        "        print(v, end=\" \")  # Mencetak node saat dikunjungi\n",
        "\n",
        "        for neighbor in self.graph[v]:  # Iterasi melalui semua tetangga\n",
        "            if neighbor not in visited:\n",
        "                self.DFSUtil(neighbor, visited)\n",
        "\n",
        "    def DFS(self, start):\n",
        "        visited = set()  # Set untuk menyimpan node yang sudah dikunjungi\n",
        "        self.DFSUtil(start, visited)\n",
        "\n",
        "# Membuat objek grafik dan menambahkan edge\n",
        "g = Graph()\n",
        "g.addEdge(0, 1)\n",
        "g.addEdge(0, 2)\n",
        "g.addEdge(1, 2)\n",
        "g.addEdge(2, 0)\n",
        "g.addEdge(2, 3)\n",
        "g.addEdge(3, 3)\n",
        "\n",
        "print(\"Berikut adalah Penelusuran Depth First (dimulai dari node 2):\")\n",
        "g.DFS(2)\n"
      ]
    },
    {
      "cell_type": "markdown",
      "source": [
        " **BFS**"
      ],
      "metadata": {
        "id": "ijbPcTlgTXDY"
      }
    },
    {
      "cell_type": "code",
      "source": [
        "# BFS algorithm in Python\n",
        "\n",
        "import collections\n",
        "\n",
        "# BFS algorithm\n",
        "def bfs(graph, root):\n",
        "    visited, queue = set(), collections.deque([root])\n",
        "    visited.add(root)\n",
        "\n",
        "    while queue:\n",
        "        # Dequeue a vertex from queue\n",
        "        vertex = queue.popleft()\n",
        "        print(str(vertex) + \" \", end=\"\")\n",
        "\n",
        "        # If not visited, mark it as visited, and enqueue it\n",
        "        for neighbour in graph[vertex]:\n",
        "            if neighbour not in visited:\n",
        "                visited.add(neighbour)\n",
        "                queue.append(neighbour)\n",
        "\n",
        "if __name__ == '__main__':\n",
        "    graph = {0: [1, 2], 1: [2], 2: [3], 3: [1, 2]}\n",
        "    print(\"Following is Breadth First Traversal: \")\n",
        "    bfs(graph, 0)\n"
      ],
      "metadata": {
        "colab": {
          "base_uri": "https://localhost:8080/"
        },
        "id": "JkkmzQEVTHVR",
        "outputId": "63a9d074-60d7-48f0-ec6e-0b0425dca087"
      },
      "execution_count": 7,
      "outputs": [
        {
          "output_type": "stream",
          "name": "stdout",
          "text": [
            "Following is Breadth First Traversal: \n",
            "0 1 2 3 "
          ]
        }
      ]
    },
    {
      "cell_type": "markdown",
      "source": [
        "**UCS**"
      ],
      "metadata": {
        "id": "OR3DG62EWkeV"
      }
    },
    {
      "cell_type": "code",
      "source": [
        "import heapq\n",
        "\n",
        "def uniform_cost_search(goal, start, graph, cost):\n",
        "    priority_queue = []\n",
        "    heapq.heappush(priority_queue, (0, start))  # (cost, node)\n",
        "    visited = set()\n",
        "\n",
        "    while priority_queue:\n",
        "        curr_cost, node = heapq.heappop(priority_queue)\n",
        "\n",
        "        if node in goal:  # Jika mencapai goal, kembalikan biaya minimum\n",
        "            return curr_cost\n",
        "\n",
        "        if node not in visited:\n",
        "            visited.add(node)\n",
        "            for neighbor in graph[node]:\n",
        "                if (node, neighbor) in cost:  # Pastikan biaya ada\n",
        "                    total_cost = curr_cost + cost[(node, neighbor)]\n",
        "                    heapq.heappush(priority_queue, (total_cost, neighbor))\n",
        "\n",
        "    return float(\"inf\")  # Jika tidak ada jalur ke goal\n",
        "\n",
        "# Definisi graf berbasis adjacency list\n",
        "graph = {\n",
        "    0: [1, 3],\n",
        "    1: [6],\n",
        "    3: [1, 6, 4],\n",
        "    4: [2, 5],\n",
        "    2: [1],\n",
        "    5: [2, 6],\n",
        "    6: [4]\n",
        "}\n",
        "\n",
        "# Biaya antar node sesuai dengan graf\n",
        "cost = {\n",
        "    (0, 1): 2, (0, 3): 5,\n",
        "    (1, 6): 1, (3, 1): 5, (3, 6): 6, (3, 4): 2,\n",
        "    (4, 2): 4, (4, 5): 3,\n",
        "    (2, 1): 4, (5, 2): 6, (5, 6): 3,\n",
        "    (6, 4): 7\n",
        "}\n",
        "\n",
        "# Goal state\n",
        "goal = [6]\n",
        "\n",
        "# Panggil UCS untuk mencari biaya minimum dari node 0 ke 6\n",
        "answer = uniform_cost_search(goal, 0, graph, cost)\n",
        "\n",
        "# Cetak hasilnya\n",
        "print(\"Minimum cost from 0 to 6 is =\", answer)\n"
      ],
      "metadata": {
        "colab": {
          "base_uri": "https://localhost:8080/"
        },
        "id": "GKfk2kCmTwVJ",
        "outputId": "da0a5faa-b6eb-44c8-9ff1-34de59465c45"
      },
      "execution_count": 13,
      "outputs": [
        {
          "output_type": "stream",
          "name": "stdout",
          "text": [
            "Minimum cost from 0 to 6 is = 3\n"
          ]
        }
      ]
    },
    {
      "cell_type": "markdown",
      "source": [
        "**KODE GREEDY**"
      ],
      "metadata": {
        "id": "qIqB8avmZAUT"
      }
    },
    {
      "cell_type": "code",
      "source": [
        "from queue import PriorityQueue\n",
        "\n",
        "# Fungsi untuk algoritma Greedy Search\n",
        "def greedy_search(graph, start, goal):\n",
        "    frontier = PriorityQueue()  # Antrian prioritas untuk menyimpan simpul yang akan dieksplorasi\n",
        "    frontier.put((0, start))  # Menambahkan simpul awal ke dalam antrian dengan nilai prioritas 0\n",
        "    explored = set()  # Set untuk menyimpan simpul yang sudah dieksplorasi\n",
        "\n",
        "    while not frontier.empty():\n",
        "        current_priority, current_node = frontier.get()  # Mengambil simpul dengan nilai prioritas terendah dari antrian\n",
        "\n",
        "        if current_node == goal:\n",
        "            print(\"Simpul tujuan sudah ditemukan!\")\n",
        "            return True  # Mengembalikan True jika simpul tujuan sudah ditemukan\n",
        "\n",
        "        explored.add(current_node)  # Menandai simpul saat ini sebagai sudah dieksplorasi\n",
        "\n",
        "        for neighbor in graph[current_node]:\n",
        "            if neighbor not in explored:\n",
        "                priority = heuristic[neighbor]  # Menggunakan nilai heuristik untuk menentukan prioritas\n",
        "                frontier.put((priority, neighbor))  # Menambahkan simpul tetangga ke dalam antrian dengan nilai prioritas heuristik\n",
        "\n",
        "    print(\"Simpul tujuan tidak ditemukan!\")\n",
        "    return False  # Mengembalikan False jika simpul tujuan tidak ditemukan\n",
        "\n",
        "# Daftar heuristik untuk setiap simpul\n",
        "heuristic = {\n",
        "    'A': 9,\n",
        "    'B': 4,\n",
        "    'C': 2,\n",
        "    'D': 5,\n",
        "    'E': 3,\n",
        "    'S': 7,\n",
        "    'G': 0\n",
        "}\n",
        "\n",
        "# Graf (dalam bentuk daftar kejadian)\n",
        "graph = {\n",
        "    'S': {'A', 'E'},\n",
        "    'A': {'B', 'C'},\n",
        "    'B': {'D'},\n",
        "    'C': {'G'},\n",
        "    'D': {'G'},\n",
        "    'E': {'D'}\n",
        "}\n",
        "\n",
        "# Titik awal dan tujuan\n",
        "start_node = 'S'\n",
        "goal_node = 'G'\n",
        "\n",
        "# Panggil fungsi greedy search\n",
        "greedy_search(graph, start_node, goal_node)\n"
      ],
      "metadata": {
        "colab": {
          "base_uri": "https://localhost:8080/"
        },
        "id": "_Gl-IR6aZF9S",
        "outputId": "ca5079c2-0cbc-4872-8fc2-0b64ec402a41"
      },
      "execution_count": 14,
      "outputs": [
        {
          "output_type": "stream",
          "name": "stdout",
          "text": [
            "Simpul tujuan sudah ditemukan!\n"
          ]
        },
        {
          "output_type": "execute_result",
          "data": {
            "text/plain": [
              "True"
            ]
          },
          "metadata": {},
          "execution_count": 14
        }
      ]
    }
  ]
}